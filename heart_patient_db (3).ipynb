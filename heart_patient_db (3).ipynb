{
 "cells": [
  {
   "cell_type": "markdown",
   "id": "3794921c-9000-4216-a89e-fc90e18810d3",
   "metadata": {},
   "source": [
    "# Heart Disease Database Analysis Project\n",
    "\n",
    "\n",
    "\n",
    "## Introduction\n",
    "\n",
    "\n",
    "\n",
    "This project aims to explore and analyze a comprehensive database of heart patients, combining five datasets from Kaggle. The primary objective is to create a centralized database using SQLite3 and perform initial analysis using SQL and Pandas. This project serves as a foundation for further investigation, uncovering valuable insights and patterns within the data.\n",
    "\n",
    "\n",
    "# Objectives\n",
    "\n",
    "\n",
    "\n",
    "1. Create a centralized database for heart disease-related data.\n",
    "2. Conduct preliminary analysis using SQL and Pandas.\n",
    "3. Identify potential areas for further investigation.\n",
    "4. Develop a foundation for advanced analytics and machine learning applications.\n",
    "\n",
    "\n",
    "## By Imtiaz Ali Mathematician,Statistician & Data Scientist\n"
   ]
  },
  {
   "cell_type": "code",
   "execution_count": 2,
   "id": "51814209-90ba-4676-bb57-a01e235958cc",
   "metadata": {},
   "outputs": [],
   "source": [
    "import pandas as pd\n",
    "import sqlite3"
   ]
  },
  {
   "cell_type": "code",
   "execution_count": 3,
   "id": "4c5718d3-5057-474f-a78b-85617f78ccbd",
   "metadata": {},
   "outputs": [],
   "source": [
    "# Load data from CSV files\n",
    "data1 = pd.read_csv('heart_data1.csv')\n",
    "data2 = pd.read_csv('heart_data2.csv')\n",
    "data3 = pd.read_csv('heart_data3.csv')\n",
    "data4 = pd.read_csv('heart_data4.csv')\n",
    "data5 = pd.read_csv('heart_data5.csv')"
   ]
  },
  {
   "cell_type": "markdown",
   "id": "93ec3821-3a4f-437a-9965-c8ce6b01b111",
   "metadata": {},
   "source": [
    "# Database Creation"
   ]
  },
  {
   "cell_type": "code",
   "execution_count": 3,
   "id": "62286dd4-603a-4194-8c5f-71f5430b0aef",
   "metadata": {},
   "outputs": [],
   "source": [
    "# Create a SQLite database connection\n",
    "conn = sqlite3.connect('heart_patient_db.db')\n",
    "cursor = conn.cursor()"
   ]
  },
  {
   "cell_type": "markdown",
   "id": "875e7bf2-0f68-4a69-bdf9-0ff60073947e",
   "metadata": {},
   "source": [
    "# Creating Tables(Schemas)"
   ]
  },
  {
   "cell_type": "code",
   "execution_count": 5,
   "id": "be4952a5-510f-484f-b55d-3edd12749fa6",
   "metadata": {},
   "outputs": [
    {
     "data": {
      "text/plain": [
       "<sqlite3.Cursor at 0x1b7f15c0ac0>"
      ]
     },
     "execution_count": 5,
     "metadata": {},
     "output_type": "execute_result"
    }
   ],
   "source": [
    "# Create table for Dataset 1: Heart Disease\n",
    "cursor.execute('''\n",
    "    CREATE TABLE IF NOT EXISTS heart_disease (\n",
    "        Age INTEGER,\n",
    "        Sex TEXT,\n",
    "        ChestPainType TEXT,\n",
    "        RestingBP INTEGER,\n",
    "        Cholesterol INTEGER,\n",
    "        FastingBS INTEGER,\n",
    "        RestingECG TEXT,\n",
    "        MaxHR INTEGER,\n",
    "        ExerciseAngina TEXT,\n",
    "        Oldpeak REAL,\n",
    "        ST_Slope TEXT,\n",
    "        HeartDisease TEXT,\n",
    "        caa TEXT,\n",
    "        thall TEXT\n",
    "    )\n",
    "''')"
   ]
  },
  {
   "cell_type": "code",
   "execution_count": 6,
   "id": "c023b430-7656-4c4b-b85b-8d21d1badf9a",
   "metadata": {},
   "outputs": [
    {
     "data": {
      "text/plain": [
       "918"
      ]
     },
     "execution_count": 6,
     "metadata": {},
     "output_type": "execute_result"
    }
   ],
   "source": [
    "# Insert data into table\n",
    "data1.to_sql('heart_disease', conn, if_exists='replace', index=False)"
   ]
  },
  {
   "cell_type": "code",
   "execution_count": 7,
   "id": "b9b23bb7-0048-4cb4-9811-b3844fb703a4",
   "metadata": {},
   "outputs": [
    {
     "data": {
      "text/plain": [
       "<sqlite3.Cursor at 0x1b7f15c0ac0>"
      ]
     },
     "execution_count": 7,
     "metadata": {},
     "output_type": "execute_result"
    }
   ],
   "source": [
    "# Create table for Dataset 2: Heart Failure\n",
    "cursor.execute('''\n",
    "    CREATE TABLE IF NOT EXISTS heart_failure (\n",
    "        age INTEGER,\n",
    "        anaemia INTEGER,\n",
    "        creatinine_phosphokinase INTEGER,\n",
    "        diabetes INTEGER,\n",
    "        ejection_fraction REAL,\n",
    "        high_blood_pressure INTEGER,\n",
    "        platelets REAL,\n",
    "        serum_creatinine REAL,\n",
    "        serum_sodium INTEGER,\n",
    "        sex TEXT,\n",
    "        smoking INTEGER,\n",
    "        time INTEGER,\n",
    "        DEATH_EVENT INTEGER\n",
    "    )\n",
    "''')\n"
   ]
  },
  {
   "cell_type": "code",
   "execution_count": 8,
   "id": "77947f94-bda0-48a8-97ab-079223e02375",
   "metadata": {},
   "outputs": [
    {
     "data": {
      "text/plain": [
       "303"
      ]
     },
     "execution_count": 8,
     "metadata": {},
     "output_type": "execute_result"
    }
   ],
   "source": [
    "# Insert data into table\n",
    "data2.to_sql('heart_failure', conn, if_exists='replace', index=False)"
   ]
  },
  {
   "cell_type": "code",
   "execution_count": 9,
   "id": "267aa1ff-a5de-4a4f-a831-889e53e6fb86",
   "metadata": {},
   "outputs": [
    {
     "data": {
      "text/plain": [
       "<sqlite3.Cursor at 0x1b7f15c0ac0>"
      ]
     },
     "execution_count": 9,
     "metadata": {},
     "output_type": "execute_result"
    }
   ],
   "source": [
    "# Create table for Dataset 3: Cardiovascular Disease\n",
    "cursor.execute('''\n",
    "    CREATE TABLE IF NOT EXISTS cardiovascular_disease (\n",
    "        Age INTEGER,\n",
    "        Sex TEXT,\n",
    "        ChestPainType TEXT,\n",
    "        BP INTEGER,\n",
    "        Cholesterol INTEGER,\n",
    "        FBS_over_120 INTEGER,\n",
    "        EKG_results TEXT,\n",
    "        MaxHR INTEGER,\n",
    "        ExerciseAngina TEXT,\n",
    "        ST_depression REAL,\n",
    "        Slope_of_ST TEXT,\n",
    "        Number_of_vessels_fluro INTEGER,\n",
    "        Thallium TEXT,\n",
    "        HeartDisease TEXT\n",
    "    )\n",
    "''')"
   ]
  },
  {
   "cell_type": "code",
   "execution_count": 10,
   "id": "77bdc635-6e7c-4ec5-9741-10d31dc9926b",
   "metadata": {},
   "outputs": [
    {
     "data": {
      "text/plain": [
       "299"
      ]
     },
     "execution_count": 10,
     "metadata": {},
     "output_type": "execute_result"
    }
   ],
   "source": [
    "# Insert data into table\n",
    "data3.to_sql('cardiovascular_disease', conn, if_exists='replace', index=False)"
   ]
  },
  {
   "cell_type": "code",
   "execution_count": 11,
   "id": "cb96e161-ae03-4231-a294-99184e0d58dc",
   "metadata": {},
   "outputs": [
    {
     "data": {
      "text/plain": [
       "<sqlite3.Cursor at 0x1b7f15c0ac0>"
      ]
     },
     "execution_count": 11,
     "metadata": {},
     "output_type": "execute_result"
    }
   ],
   "source": [
    "# Create table for Dataset 4: Health Survey\n",
    "cursor.execute('''\n",
    "    CREATE TABLE IF NOT EXISTS health_survey (\n",
    "        HeartDisease TEXT,\n",
    "        BMI REAL,\n",
    "        Smoking INTEGER,\n",
    "        AlcoholDrinking INTEGER,\n",
    "        Stroke INTEGER,\n",
    "        PhysicalHealth REAL,\n",
    "        MentalHealth REAL,\n",
    "        DiffWalking TEXT,\n",
    "        Sex TEXT,\n",
    "        AgeCategory TEXT,\n",
    "        Race TEXT,\n",
    "        Diabetic INTEGER\n",
    "    )\n",
    "''')"
   ]
  },
  {
   "cell_type": "code",
   "execution_count": 12,
   "id": "ad1702da-b3b3-43e7-9478-04decc6629d1",
   "metadata": {},
   "outputs": [
    {
     "data": {
      "text/plain": [
       "270"
      ]
     },
     "execution_count": 12,
     "metadata": {},
     "output_type": "execute_result"
    }
   ],
   "source": [
    "# Insert data into table\n",
    "data4.to_sql('health_survey', conn, if_exists='replace', index=False)"
   ]
  },
  {
   "cell_type": "code",
   "execution_count": 13,
   "id": "67f826e2-fefc-4329-ba83-37531b8ecf3a",
   "metadata": {},
   "outputs": [
    {
     "data": {
      "text/plain": [
       "<sqlite3.Cursor at 0x1b7f15c0ac0>"
      ]
     },
     "execution_count": 13,
     "metadata": {},
     "output_type": "execute_result"
    }
   ],
   "source": [
    "# Create table for Dataset 5: Health and Wellness\n",
    "cursor.execute('''\n",
    "    CREATE TABLE IF NOT EXISTS health_and_wellness (\n",
    "        PhysicalActivity TEXT,\n",
    "        GenHealth TEXT,\n",
    "        SleepTime REAL,\n",
    "        Asthma INTEGER,\n",
    "        KidneyDisease INTEGER,\n",
    "        SkinCancer INTEGER,\n",
    "        Sex TEXT,\n",
    "        Age INTEGER,\n",
    "        BMI REAL,\n",
    "        Smoking INTEGER,\n",
    "        AlcoholDrinking INTEGER\n",
    "    )\n",
    "''')"
   ]
  },
  {
   "cell_type": "code",
   "execution_count": 14,
   "id": "dafce7b7-b141-4a0c-a935-7d37c09b38b7",
   "metadata": {},
   "outputs": [
    {
     "data": {
      "text/plain": [
       "319795"
      ]
     },
     "execution_count": 14,
     "metadata": {},
     "output_type": "execute_result"
    }
   ],
   "source": [
    "# Insert data into table\n",
    "data5.to_sql('health_and_wellness', conn, if_exists='replace', index=False)"
   ]
  },
  {
   "cell_type": "code",
   "execution_count": 15,
   "id": "e35388d7-6df3-4921-aad7-1f5e25aedc11",
   "metadata": {},
   "outputs": [],
   "source": [
    "# Commit changes and close connection\n",
    "conn.commit()\n",
    "conn.close()"
   ]
  },
  {
   "cell_type": "code",
   "execution_count": 4,
   "id": "aedc752a-209b-49b7-995d-58a2ee13ebd3",
   "metadata": {},
   "outputs": [],
   "source": [
    "# Re-establish connection\n",
    "conn = sqlite3.connect('heart_patient_db.db')\n",
    "cursor = conn.cursor()"
   ]
  },
  {
   "cell_type": "markdown",
   "id": "c3f50de1-d945-4b2d-8d18-c37ef3be668c",
   "metadata": {},
   "source": [
    "# showing tables "
   ]
  },
  {
   "cell_type": "code",
   "execution_count": 29,
   "id": "2e0e0d6f-2cda-4eed-81ac-d4fbbe857faa",
   "metadata": {},
   "outputs": [
    {
     "name": "stdout",
     "output_type": "stream",
     "text": [
      "                     name\n",
      "0           heart_disease\n",
      "1           heart_failure\n",
      "2  cardiovascular_disease\n",
      "3           health_survey\n",
      "4     health_and_wellness\n"
     ]
    }
   ],
   "source": [
    "conn = sqlite3.connect('heart_patient_db.db')\n",
    "tables = pd.read_sql_query(\"SELECT name FROM sqlite_master WHERE type='table'\", conn)\n",
    "print(tables)"
   ]
  },
  {
   "cell_type": "markdown",
   "id": "48923e54-a008-4fb1-b27f-7b1f00ddd1e8",
   "metadata": {},
   "source": [
    "# Display of tables by SQLite Query\n"
   ]
  },
  {
   "cell_type": "code",
   "execution_count": 30,
   "id": "95433d85-09fb-4960-802d-20a8aef830bd",
   "metadata": {},
   "outputs": [
    {
     "name": "stdout",
     "output_type": "stream",
     "text": [
      "Table: heart_disease\n",
      "(40, 'M', 'ATA', 140, 289, 0, 'Normal', 172, 'N', 0.0, 'Up', 0)\n",
      "(49, 'F', 'NAP', 160, 180, 0, 'Normal', 156, 'N', 1.0, 'Flat', 1)\n",
      "(37, 'M', 'ATA', 130, 283, 0, 'ST', 98, 'N', 0.0, 'Up', 0)\n",
      "(48, 'F', 'ASY', 138, 214, 0, 'Normal', 108, 'Y', 1.5, 'Flat', 1)\n",
      "(54, 'M', 'NAP', 150, 195, 0, 'Normal', 122, 'N', 0.0, 'Up', 0)\n",
      "\n",
      "\n",
      "Table: heart_failure\n",
      "(63, 1, 3, 145, 233, 1, 0, 150, 0, 2.3, 0, 0, 1, 1)\n",
      "(37, 1, 2, 130, 250, 0, 1, 187, 0, 3.5, 0, 0, 2, 1)\n",
      "(41, 0, 1, 130, 204, 0, 0, 172, 0, 1.4, 2, 0, 2, 1)\n",
      "(56, 1, 1, 120, 236, 0, 1, 178, 0, 0.8, 2, 0, 2, 1)\n",
      "(57, 0, 0, 120, 354, 0, 1, 163, 1, 0.6, 2, 0, 2, 1)\n",
      "\n",
      "\n",
      "Table: cardiovascular_disease\n",
      "(75.0, 0, 582, 0, 20, 1, 265000.0, 1.9, 130, 1, 0, 4, 1)\n",
      "(55.0, 0, 7861, 0, 38, 0, 263358.03, 1.1, 136, 1, 0, 6, 1)\n",
      "(65.0, 0, 146, 0, 20, 0, 162000.0, 1.3, 129, 1, 1, 7, 1)\n",
      "(50.0, 1, 111, 0, 20, 0, 210000.0, 1.9, 137, 1, 0, 7, 1)\n",
      "(65.0, 1, 160, 1, 20, 0, 327000.0, 2.7, 116, 0, 0, 8, 1)\n",
      "\n",
      "\n",
      "Table: health_survey\n",
      "(70, 1, 4, 130, 322, 0, 2, 109, 0, 2.4, 2, 3, 3, 'Presence')\n",
      "(67, 0, 3, 115, 564, 0, 2, 160, 0, 1.6, 2, 0, 7, 'Absence')\n",
      "(57, 1, 2, 124, 261, 0, 0, 141, 0, 0.3, 1, 0, 7, 'Presence')\n",
      "(64, 1, 4, 128, 263, 0, 0, 105, 1, 0.2, 2, 1, 7, 'Absence')\n",
      "(74, 0, 2, 120, 269, 0, 2, 121, 1, 0.2, 1, 1, 3, 'Absence')\n",
      "\n",
      "\n",
      "Table: health_and_wellness\n",
      "('No', 16.6, 'Yes', 'No', 'No', 3.0, 30.0, 'No', 'Female', '55-59', 'White', 'Yes', 'Yes', 'Very good', 5.0, 'Yes', 'No', 'Yes')\n",
      "('No', 20.34, 'No', 'No', 'Yes', 0.0, 0.0, 'No', 'Female', '80 or older', 'White', 'No', 'Yes', 'Very good', 7.0, 'No', 'No', 'No')\n",
      "('No', 26.58, 'Yes', 'No', 'No', 20.0, 30.0, 'No', 'Male', '65-69', 'White', 'Yes', 'Yes', 'Fair', 8.0, 'Yes', 'No', 'No')\n",
      "('No', 24.21, 'No', 'No', 'No', 0.0, 0.0, 'No', 'Female', '75-79', 'White', 'No', 'No', 'Good', 6.0, 'No', 'No', 'Yes')\n",
      "('No', 23.71, 'No', 'No', 'No', 28.0, 0.0, 'Yes', 'Female', '40-44', 'White', 'No', 'Yes', 'Very good', 8.0, 'No', 'No', 'No')\n",
      "\n",
      "\n"
     ]
    }
   ],
   "source": [
    "import sqlite3\n",
    "\n",
    "conn = sqlite3.connect('heart_patient_db.db')\n",
    "cursor = conn.cursor()\n",
    "\n",
    "tables = ['heart_disease', 'heart_failure', 'cardiovascular_disease', 'health_survey', 'health_and_wellness']\n",
    "\n",
    "for table in tables:\n",
    "    cursor.execute(f\"SELECT * FROM {table} LIMIT 5\")\n",
    "    records = cursor.fetchall()\n",
    "    print(f\"Table: {table}\")\n",
    "    for record in records:\n",
    "        print(record)\n",
    "    print(\"\\n\")"
   ]
  },
  {
   "cell_type": "markdown",
   "id": "a1509700-21cb-44e9-9250-90fee942a633",
   "metadata": {},
   "source": [
    "# Display of Tables by Pandas Library"
   ]
  },
  {
   "cell_type": "code",
   "execution_count": 31,
   "id": "c3b47fb6-1501-471a-bc2d-eb54b54ceb1b",
   "metadata": {},
   "outputs": [
    {
     "name": "stdout",
     "output_type": "stream",
     "text": [
      "Table: heart_disease\n",
      "   Age Sex ChestPainType  RestingBP  Cholesterol  FastingBS RestingECG  MaxHR  \\\n",
      "0   40   M           ATA        140          289          0     Normal    172   \n",
      "1   49   F           NAP        160          180          0     Normal    156   \n",
      "2   37   M           ATA        130          283          0         ST     98   \n",
      "3   48   F           ASY        138          214          0     Normal    108   \n",
      "4   54   M           NAP        150          195          0     Normal    122   \n",
      "\n",
      "  ExerciseAngina  Oldpeak ST_Slope  HeartDisease  \n",
      "0              N      0.0       Up             0  \n",
      "1              N      1.0     Flat             1  \n",
      "2              N      0.0       Up             0  \n",
      "3              Y      1.5     Flat             1  \n",
      "4              N      0.0       Up             0  \n",
      "\n",
      "\n",
      "Table: heart_failure\n",
      "   age  sex  cp  trtbps  chol  fbs  restecg  thalachh  exng  oldpeak  slp  \\\n",
      "0   63    1   3     145   233    1        0       150     0      2.3    0   \n",
      "1   37    1   2     130   250    0        1       187     0      3.5    0   \n",
      "2   41    0   1     130   204    0        0       172     0      1.4    2   \n",
      "3   56    1   1     120   236    0        1       178     0      0.8    2   \n",
      "4   57    0   0     120   354    0        1       163     1      0.6    2   \n",
      "\n",
      "   caa  thall  output  \n",
      "0    0      1       1  \n",
      "1    0      2       1  \n",
      "2    0      2       1  \n",
      "3    0      2       1  \n",
      "4    0      2       1  \n",
      "\n",
      "\n",
      "Table: cardiovascular_disease\n",
      "    age  anaemia  creatinine_phosphokinase  diabetes  ejection_fraction  \\\n",
      "0  75.0        0                       582         0                 20   \n",
      "1  55.0        0                      7861         0                 38   \n",
      "2  65.0        0                       146         0                 20   \n",
      "3  50.0        1                       111         0                 20   \n",
      "4  65.0        1                       160         1                 20   \n",
      "\n",
      "   high_blood_pressure  platelets  serum_creatinine  serum_sodium  sex  \\\n",
      "0                    1  265000.00               1.9           130    1   \n",
      "1                    0  263358.03               1.1           136    1   \n",
      "2                    0  162000.00               1.3           129    1   \n",
      "3                    0  210000.00               1.9           137    1   \n",
      "4                    0  327000.00               2.7           116    0   \n",
      "\n",
      "   smoking  time  DEATH_EVENT  \n",
      "0        0     4            1  \n",
      "1        0     6            1  \n",
      "2        1     7            1  \n",
      "3        0     7            1  \n",
      "4        0     8            1  \n",
      "\n",
      "\n",
      "Table: health_survey\n",
      "   Age  Sex  Chest pain type   BP  Cholesterol  FBS over 120  EKG results  \\\n",
      "0   70    1                4  130          322             0            2   \n",
      "1   67    0                3  115          564             0            2   \n",
      "2   57    1                2  124          261             0            0   \n",
      "3   64    1                4  128          263             0            0   \n",
      "4   74    0                2  120          269             0            2   \n",
      "\n",
      "   Max HR  Exercise angina  ST depression  Slope of ST  \\\n",
      "0     109                0            2.4            2   \n",
      "1     160                0            1.6            2   \n",
      "2     141                0            0.3            1   \n",
      "3     105                1            0.2            2   \n",
      "4     121                1            0.2            1   \n",
      "\n",
      "   Number of vessels fluro  Thallium Heart Disease  \n",
      "0                        3         3      Presence  \n",
      "1                        0         7       Absence  \n",
      "2                        0         7      Presence  \n",
      "3                        1         7       Absence  \n",
      "4                        1         3       Absence  \n",
      "\n",
      "\n",
      "Table: health_and_wellness\n",
      "  HeartDisease    BMI Smoking AlcoholDrinking Stroke  PhysicalHealth  \\\n",
      "0           No  16.60     Yes              No     No             3.0   \n",
      "1           No  20.34      No              No    Yes             0.0   \n",
      "2           No  26.58     Yes              No     No            20.0   \n",
      "3           No  24.21      No              No     No             0.0   \n",
      "4           No  23.71      No              No     No            28.0   \n",
      "\n",
      "   MentalHealth DiffWalking     Sex  AgeCategory   Race Diabetic  \\\n",
      "0          30.0          No  Female        55-59  White      Yes   \n",
      "1           0.0          No  Female  80 or older  White       No   \n",
      "2          30.0          No    Male        65-69  White      Yes   \n",
      "3           0.0          No  Female        75-79  White       No   \n",
      "4           0.0         Yes  Female        40-44  White       No   \n",
      "\n",
      "  PhysicalActivity  GenHealth  SleepTime Asthma KidneyDisease SkinCancer  \n",
      "0              Yes  Very good        5.0    Yes            No        Yes  \n",
      "1              Yes  Very good        7.0     No            No         No  \n",
      "2              Yes       Fair        8.0    Yes            No         No  \n",
      "3               No       Good        6.0     No            No        Yes  \n",
      "4              Yes  Very good        8.0     No            No         No  \n",
      "\n",
      "\n"
     ]
    }
   ],
   "source": [
    "tables = ['heart_disease', 'heart_failure', 'cardiovascular_disease', 'health_survey', 'health_and_wellness']\n",
    "\n",
    "for table in tables:\n",
    "    df = pd.read_sql_query(f\"SELECT * FROM {table} LIMIT 5\", conn)\n",
    "    print(f\"Table: {table}\")\n",
    "    print(df)\n",
    "    print(\"\\n\")"
   ]
  },
  {
   "cell_type": "code",
   "execution_count": null,
   "id": "b48403a0-efcb-4718-ae3c-3dbd0fbd09e9",
   "metadata": {},
   "outputs": [],
   "source": []
  },
  {
   "cell_type": "code",
   "execution_count": null,
   "id": "333d7288-1a80-497a-b188-e96689f1caf6",
   "metadata": {},
   "outputs": [],
   "source": []
  },
  {
   "cell_type": "code",
   "execution_count": null,
   "id": "30c396a5-76bc-4c2d-a45c-5c8f489d05d7",
   "metadata": {},
   "outputs": [],
   "source": []
  },
  {
   "cell_type": "markdown",
   "id": "08c5843f-82dc-4c9a-8ff5-91582e68eb46",
   "metadata": {},
   "source": [
    "# Data Analysis"
   ]
  },
  {
   "cell_type": "code",
   "execution_count": null,
   "id": "1c930b13-f5ea-4ff8-a415-5eda1755127d",
   "metadata": {},
   "outputs": [],
   "source": []
  },
  {
   "cell_type": "code",
   "execution_count": null,
   "id": "a7942d05-5f6e-4656-9316-bdf2e32cb064",
   "metadata": {},
   "outputs": [],
   "source": []
  },
  {
   "cell_type": "markdown",
   "id": "3162d54e-1e52-4796-a907-fcd8456ae95e",
   "metadata": {},
   "source": [
    "## Count Patients by Heart Disease Diagnosis\n",
    "Count the number of patients diagnosed with heart disease in each table."
   ]
  },
  {
   "cell_type": "code",
   "execution_count": 37,
   "id": "86adbc82-e8d6-4b02-9872-d5c09beef74c",
   "metadata": {},
   "outputs": [
    {
     "name": "stdout",
     "output_type": "stream",
     "text": [
      "Patients with Heart Disease in heart_disease table : 481\n"
     ]
    }
   ],
   "source": [
    "# Count patients with heart disease in 'heart_disease' table\n",
    "query = \"SELECT COUNT(*) FROM heart_disease WHERE HeartDisease = 1;\"\n",
    "heart_disease_count = pd.read_sql(query, conn)\n",
    "print(\"Patients with Heart Disease in heart_disease table :\", heart_disease_count.iloc[0,0])"
   ]
  },
  {
   "cell_type": "code",
   "execution_count": null,
   "id": "2c085248-6788-4b32-aec5-626dc9d6b6b9",
   "metadata": {},
   "outputs": [],
   "source": []
  },
  {
   "cell_type": "code",
   "execution_count": 38,
   "id": "d8522c56-da12-4c01-a76b-5307088d0a8c",
   "metadata": {},
   "outputs": [
    {
     "name": "stdout",
     "output_type": "stream",
     "text": [
      "Patients with Cardiovascular Death in cardiovascular_disease table: 96\n"
     ]
    }
   ],
   "source": [
    "# Repeat similar queries for other tables\n",
    "query = \"SELECT COUNT(*) FROM cardiovascular_disease WHERE DEATH_EVENT = 1;\"\n",
    "cvd_count = pd.read_sql(query, conn)\n",
    "print(\"Patients with Cardiovascular Death in cardiovascular_disease table:\", cvd_count.iloc[0,0])"
   ]
  },
  {
   "cell_type": "code",
   "execution_count": null,
   "id": "93b19b97-ee53-4012-aa86-6923017f74e9",
   "metadata": {},
   "outputs": [],
   "source": []
  },
  {
   "cell_type": "markdown",
   "id": "e7b15418-8614-475e-a792-bbd1ef06bc37",
   "metadata": {},
   "source": [
    "## Aggregating Data: Average Cholesterol Levels by Gender\n",
    "Find the average cholesterol levels for males and females in different datasets."
   ]
  },
  {
   "cell_type": "code",
   "execution_count": 5,
   "id": "0b8d4bd1-c570-46e3-97da-82ed1e7ae175",
   "metadata": {},
   "outputs": [
    {
     "data": {
      "text/html": [
       "<div>\n",
       "<style scoped>\n",
       "    .dataframe tbody tr th:only-of-type {\n",
       "        vertical-align: middle;\n",
       "    }\n",
       "\n",
       "    .dataframe tbody tr th {\n",
       "        vertical-align: top;\n",
       "    }\n",
       "\n",
       "    .dataframe thead th {\n",
       "        text-align: right;\n",
       "    }\n",
       "</style>\n",
       "<table border=\"1\" class=\"dataframe\">\n",
       "  <thead>\n",
       "    <tr style=\"text-align: right;\">\n",
       "      <th></th>\n",
       "      <th>Sex</th>\n",
       "      <th>avg_cholesterol</th>\n",
       "    </tr>\n",
       "  </thead>\n",
       "  <tbody>\n",
       "    <tr>\n",
       "      <th>0</th>\n",
       "      <td>F</td>\n",
       "      <td>238.989418</td>\n",
       "    </tr>\n",
       "    <tr>\n",
       "      <th>1</th>\n",
       "      <td>M</td>\n",
       "      <td>188.300292</td>\n",
       "    </tr>\n",
       "  </tbody>\n",
       "</table>\n",
       "</div>"
      ],
      "text/plain": [
       "  Sex  avg_cholesterol\n",
       "0   F       238.989418\n",
       "1   M       188.300292"
      ]
     },
     "execution_count": 5,
     "metadata": {},
     "output_type": "execute_result"
    }
   ],
   "source": [
    "# Average Cholesterol by Sex in 'heart_disease' table\n",
    "query = \"\"\"\n",
    "SELECT Sex, AVG(Cholesterol) as avg_cholesterol\n",
    "FROM heart_disease\n",
    "GROUP BY Sex;\n",
    "\"\"\"\n",
    "pd.read_sql(query, conn)"
   ]
  },
  {
   "cell_type": "code",
   "execution_count": null,
   "id": "25549c5a-56fd-4040-8095-c3c619488bd3",
   "metadata": {},
   "outputs": [],
   "source": []
  },
  {
   "cell_type": "markdown",
   "id": "1b5df354-0fa1-4ab0-bd32-0e05e50a17e7",
   "metadata": {},
   "source": [
    "## Compare Resting Blood Pressure between Tables\n",
    "Compare average resting blood pressure from heart_disease and heart_failure tables."
   ]
  },
  {
   "cell_type": "code",
   "execution_count": 6,
   "id": "402acb00-d5d6-480c-9089-b2bc5ad54d90",
   "metadata": {},
   "outputs": [
    {
     "name": "stdout",
     "output_type": "stream",
     "text": [
      "Average Resting BP in 'heart_disease': 132.45828571428572\n",
      "Average Resting BP in 'heart_failure': 131.62376237623764\n"
     ]
    }
   ],
   "source": [
    "# Average RestingBP from 'heart_disease' table\n",
    "query = \"SELECT AVG(RestingBP) AS avg_resting_bp FROM heart_disease;\"\n",
    "heart_disease_bp = pd.read_sql(query, conn)\n",
    "\n",
    "# Average trtbps (RestingBP) from 'heart_failure' table\n",
    "query = \"SELECT AVG(trtbps) AS avg_resting_bp FROM heart_failure;\"\n",
    "heart_failure_bp = pd.read_sql(query, conn)\n",
    "\n",
    "print(\"Average Resting BP in 'heart_disease':\", heart_disease_bp.iloc[0,0])\n",
    "print(\"Average Resting BP in 'heart_failure':\", heart_failure_bp.iloc[0,0])"
   ]
  },
  {
   "cell_type": "code",
   "execution_count": null,
   "id": "53590493-79af-440f-ac90-0628546cf0ea",
   "metadata": {},
   "outputs": [],
   "source": []
  },
  {
   "cell_type": "markdown",
   "id": "8cb8aa75-0eab-44d4-acba-26b9d2700573",
   "metadata": {},
   "source": [
    "## Find High-Risk Patients\n",
    "Find patients with maximum heart rate (MaxHR) below a threshold and with angina, which indicates higher risk."
   ]
  },
  {
   "cell_type": "code",
   "execution_count": 7,
   "id": "9d02c479-838d-4489-b34d-f2aa8ddae170",
   "metadata": {},
   "outputs": [
    {
     "name": "stdout",
     "output_type": "stream",
     "text": [
      "    Age Sex ChestPainType  RestingBP  Cholesterol  FastingBS RestingECG  \\\n",
      "0    58   M           ATA        136          164          0         ST   \n",
      "1    65   M           ASY        140          306          1     Normal   \n",
      "2    47   F           ASY        120          205          0     Normal   \n",
      "3    52   M           ASY        112          342          0         ST   \n",
      "4    52   M           ASY        160          246          0         ST   \n",
      "5    66   M           ASY        140          139          0     Normal   \n",
      "6    48   M           ASY        160          329          0     Normal   \n",
      "7    57   M           ASY        150          255          0     Normal   \n",
      "8    52   M           ASY        160          331          0     Normal   \n",
      "9    49   M           ASY        128          212          0     Normal   \n",
      "10   47   M           ASY        150          226          0     Normal   \n",
      "11   48   M           ASY        160          355          0     Normal   \n",
      "12   54   M           ASY        130          242          0     Normal   \n",
      "13   65   M           ASY        115            0          0     Normal   \n",
      "14   52   M           ASY         95            0          1     Normal   \n",
      "15   62   M           NAP        160            0          0     Normal   \n",
      "16   63   M           ASY        150            0          0     Normal   \n",
      "17   60   M           ASY        135            0          0     Normal   \n",
      "18   63   M           ASY        185            0          0     Normal   \n",
      "19   60   M           ASY        160            0          0         ST   \n",
      "20   42   M           ASY        145            0          0     Normal   \n",
      "21   70   M           ASY        115            0          0         ST   \n",
      "22   57   M           ASY        160            0          1     Normal   \n",
      "23   66   M           NAP        110          213          1        LVH   \n",
      "24   63   M           ASY        170          177          0     Normal   \n",
      "25   61   M           NAP        120            0          0     Normal   \n",
      "26   63   M           ASY        136            0          0     Normal   \n",
      "27   62   M           ASY        152          153          0         ST   \n",
      "28   40   M           NAP        106          240          0     Normal   \n",
      "29   63   M           ASY        160          267          1         ST   \n",
      "30   69   M           ASY        122          216          1        LVH   \n",
      "31   57   M           ASY        130          207          0         ST   \n",
      "32   61   M           NAP        120          337          0     Normal   \n",
      "33   62   M           ATA        120          254          0        LVH   \n",
      "34   57   M           ASY        152          274          0     Normal   \n",
      "35   62   M           ASY        120          267          0     Normal   \n",
      "36   64   M           ASY        120          246          0        LVH   \n",
      "37   53   M           ASY        123          282          0     Normal   \n",
      "\n",
      "    MaxHR ExerciseAngina  Oldpeak ST_Slope  HeartDisease  \n",
      "0      99              Y      2.0     Flat             1  \n",
      "1      87              Y      1.5     Flat             1  \n",
      "2      98              Y      2.0     Flat             1  \n",
      "3      96              Y      1.0     Flat             1  \n",
      "4      82              Y      4.0     Flat             1  \n",
      "5      94              Y      1.0     Flat             1  \n",
      "6      92              Y      1.5     Flat             1  \n",
      "7      92              Y      3.0     Flat             1  \n",
      "8      94              Y      2.5     Flat             1  \n",
      "9      96              Y      0.0     Flat             1  \n",
      "10     98              Y      1.5     Flat             1  \n",
      "11     99              Y      2.0     Flat             1  \n",
      "12     91              Y      1.0     Flat             1  \n",
      "13     93              Y      0.0     Flat             1  \n",
      "14     82              Y      0.8     Flat             1  \n",
      "15     72              Y      0.0     Flat             1  \n",
      "16     86              Y      2.0     Flat             1  \n",
      "17     63              Y      0.5       Up             1  \n",
      "18     98              Y      0.0       Up             1  \n",
      "19     99              Y      0.5     Flat             1  \n",
      "20     99              Y      0.0     Flat             1  \n",
      "21     92              Y      0.0     Flat             1  \n",
      "22     98              Y      2.0     Flat             1  \n",
      "23     99              Y      1.3     Flat             0  \n",
      "24     84              Y      2.5     Down             1  \n",
      "25     80              Y      0.0     Flat             1  \n",
      "26     84              Y      0.0     Flat             1  \n",
      "27     97              Y      1.6       Up             1  \n",
      "28     80              Y      0.0       Up             0  \n",
      "29     88              Y      2.0     Flat             1  \n",
      "30     84              Y      0.0     Flat             1  \n",
      "31     96              Y      1.0     Flat             0  \n",
      "32     98              Y      0.0     Flat             1  \n",
      "33     93              Y      0.0     Flat             1  \n",
      "34     88              Y      1.2     Flat             1  \n",
      "35     99              Y      1.8     Flat             1  \n",
      "36     96              Y      2.2     Down             1  \n",
      "37     95              Y      2.0     Flat             1  \n"
     ]
    }
   ],
   "source": [
    "# High-risk patients based on MaxHR and ExerciseAngina from 'heart_disease'\n",
    "query = \"\"\"\n",
    "SELECT *\n",
    "FROM heart_disease\n",
    "WHERE MaxHR < 100 AND ExerciseAngina = 'Y';\n",
    "\"\"\"\n",
    "high_risk_patients = pd.read_sql(query, conn)\n",
    "print(high_risk_patients)"
   ]
  },
  {
   "cell_type": "code",
   "execution_count": null,
   "id": "9adb484e-038c-4fff-8ad4-72c00ed82ad8",
   "metadata": {},
   "outputs": [],
   "source": []
  },
  {
   "cell_type": "markdown",
   "id": "c3c0718b-d696-4c84-9a75-553c2b4dbfe9",
   "metadata": {},
   "source": [
    "## Analyze Health Factors Correlated with Mental Health\n",
    "Explore relationships between mental health and physical conditions in the health_and_wellness table."
   ]
  },
  {
   "cell_type": "code",
   "execution_count": 8,
   "id": "fe21248d-b2b4-4576-b211-60d1c5dfa0d4",
   "metadata": {},
   "outputs": [
    {
     "name": "stdout",
     "output_type": "stream",
     "text": [
      "       MentalHealth  PhysicalHealth  SleepTime AlcoholDrinking Stroke\n",
      "0              30.0             3.0        5.0              No     No\n",
      "1              30.0            20.0        8.0              No     No\n",
      "2              30.0             0.0        5.0              No     No\n",
      "3              30.0             0.0        8.0              No     No\n",
      "4              15.0             0.0        6.0              No     No\n",
      "...             ...             ...        ...             ...    ...\n",
      "39761          15.0            30.0        6.0             Yes     No\n",
      "39762          30.0             0.0        4.0              No     No\n",
      "39763          30.0            30.0        8.0              No     No\n",
      "39764          15.0            30.0        6.0              No    Yes\n",
      "39765          30.0            30.0        4.0              No     No\n",
      "\n",
      "[39766 rows x 5 columns]\n"
     ]
    }
   ],
   "source": [
    "# Analyzing correlations between MentalHealth and physical health factors in 'health_and_wellness'\n",
    "query = \"\"\"\n",
    "SELECT MentalHealth, PhysicalHealth, SleepTime, AlcoholDrinking, Stroke\n",
    "FROM health_and_wellness\n",
    "WHERE MentalHealth > 10;  -- focusing on individuals with high mental health issues\n",
    "\"\"\"\n",
    "mental_health_analysis = pd.read_sql(query, conn)\n",
    "print(mental_health_analysis)"
   ]
  },
  {
   "cell_type": "code",
   "execution_count": null,
   "id": "6525afef-aca7-42b8-bc6a-00a94c105068",
   "metadata": {},
   "outputs": [],
   "source": []
  },
  {
   "cell_type": "markdown",
   "id": "3db1f8b5-b9d4-4f77-9deb-2fe90ac30d2d",
   "metadata": {},
   "source": [
    "## Join Operations: Combining Data from Multiple Tables\n",
    "Combine data from heart_disease and heart_failure tables based on similar attributes.ed_data)\r\n"
   ]
  },
  {
   "cell_type": "code",
   "execution_count": 10,
   "id": "37a51890-1f67-4f8b-ba93-6f72481611d5",
   "metadata": {},
   "outputs": [
    {
     "name": "stdout",
     "output_type": "stream",
     "text": [
      "     Age Sex ChestPainType ChestPainType_HeartFailure trtbps  chol\n",
      "0     40   M           ATA                       None   None  None\n",
      "1     49   F           NAP                       None   None  None\n",
      "2     37   M           ATA                       None   None  None\n",
      "3     48   F           ASY                       None   None  None\n",
      "4     54   M           NAP                       None   None  None\n",
      "..   ...  ..           ...                        ...    ...   ...\n",
      "870   45   M           ASY                       None   None  None\n",
      "871   70   F           NAP                       None   None  None\n",
      "872   50   M           NAP                       None   None  None\n",
      "873   67   F           ASY                       None   None  None\n",
      "874   49   M           ATA                       None   None  None\n",
      "\n",
      "[875 rows x 6 columns]\n"
     ]
    }
   ],
   "source": [
    "# Inner Join on common attributes such as Age and Sex\n",
    "query = \"\"\"\n",
    "    SELECT hd.Age, hd.Sex, hd.ChestPainType, hf.cp AS ChestPainType_HeartFailure, hf.trtbps, hf.chol\n",
    "    FROM heart_disease hd\n",
    "    LEFT JOIN heart_failure hf\n",
    "    ON hd.Age = hf.age AND hd.Sex = hf.sex;\n",
    "\"\"\"\n",
    "combined_data = pd.read_sql(query, conn)\n",
    "print(combined_data)"
   ]
  },
  {
   "cell_type": "code",
   "execution_count": null,
   "id": "dab3a5ee-1c7b-40a9-bb8d-537488b99a11",
   "metadata": {},
   "outputs": [],
   "source": []
  },
  {
   "cell_type": "markdown",
   "id": "cefe69cf-7d98-4cb2-ad55-1b4035031cd2",
   "metadata": {},
   "source": [
    "# # Exporting the high-risk patients query result to CSV\r\n",
    "high_risk_patients.to_csv('high_risk_patients.csv', index=False)\r\n"
   ]
  },
  {
   "cell_type": "code",
   "execution_count": 12,
   "id": "f3e5854e-15d9-4e45-8534-0777aecd4985",
   "metadata": {},
   "outputs": [
    {
     "name": "stdout",
     "output_type": "stream",
     "text": [
      "high_risk_patients.csv is ready in home page\n"
     ]
    }
   ],
   "source": [
    "# Exporting the high-risk patients query result to CSV\n",
    "high_risk_patients.to_csv('high_risk_patients.csv', index=False)\n",
    "print (\"high_risk_patients.csv is ready in home page\")"
   ]
  },
  {
   "cell_type": "code",
   "execution_count": null,
   "id": "2da935a2-90b9-4aac-a923-e0069327e4ee",
   "metadata": {},
   "outputs": [],
   "source": []
  },
  {
   "cell_type": "markdown",
   "id": "8b384037-2c08-4977-bf59-ccf618ea62f6",
   "metadata": {},
   "source": [
    "## Inserting Data with SQL INSERT Statements\n",
    "For each table, we’ll add a few more sample records. Here's how to do it with SQL commands."
   ]
  },
  {
   "cell_type": "code",
   "execution_count": 37,
   "id": "ee8a9ae7-6df8-4511-bb5b-93254eab855a",
   "metadata": {},
   "outputs": [
    {
     "name": "stdout",
     "output_type": "stream",
     "text": [
      "Records inserted successfully into heart_disease table\n"
     ]
    }
   ],
   "source": [
    "# Insert records into the heart_disease table\n",
    "cursor.execute('''\n",
    "    INSERT INTO heart_disease \n",
    "    (Age, Sex, ChestPainType, RestingBP, Cholesterol, FastingBS, RestingECG, MaxHR, ExerciseAngina, Oldpeak, ST_Slope, HeartDisease) \n",
    "    VALUES \n",
    "    (60, 'F', 'ATA', 130, 220, 1, 'Normal', 140, 'N', 1.0, 'Flat', 0),\n",
    "    (45, 'M', 'ASY', 120, 240, 0, 'ST', 160, 'Y', 2.5, 'Up', 1),\n",
    "    (70, 'F', 'NAP', 140, 280, 1, 'LVH', 110, 'N', 1.8, 'Flat', 1)\n",
    "''')\n",
    "conn.commit()\n",
    "print(\"Records inserted successfully into heart_disease table\")"
   ]
  },
  {
   "cell_type": "code",
   "execution_count": null,
   "id": "4c0f3345-50f7-414b-ac22-73ed3ab37086",
   "metadata": {},
   "outputs": [],
   "source": []
  },
  {
   "cell_type": "code",
   "execution_count": null,
   "id": "12b2da2a-0e8e-4826-9eb0-e578473fc864",
   "metadata": {},
   "outputs": [],
   "source": []
  },
  {
   "cell_type": "markdown",
   "id": "d970d2a3-fb01-4e9e-ba46-54839ab064e3",
   "metadata": {},
   "source": [
    "##  basic statistics"
   ]
  },
  {
   "cell_type": "code",
   "execution_count": 27,
   "id": "20fa18ff-931d-4bf1-a519-705b8d7a607c",
   "metadata": {},
   "outputs": [
    {
     "name": "stdout",
     "output_type": "stream",
     "text": [
      "     avg_age  avg_cholesterol  avg_restingBP\n",
      "0  53.510893       198.799564     132.396514\n"
     ]
    }
   ],
   "source": [
    "#  of the heart_disease table (age, cholesterol, RestingBP)\n",
    "query1 = '''\n",
    "    SELECT \n",
    "        AVG(Age) AS avg_age, \n",
    "        AVG(Cholesterol) AS avg_cholesterol, \n",
    "        AVG(RestingBP) AS avg_restingBP \n",
    "    FROM heart_disease\n",
    "'''\n",
    "heart_disease_stats = pd.read_sql_query(query1, conn)\n",
    "print(heart_disease_stats)"
   ]
  },
  {
   "cell_type": "code",
   "execution_count": null,
   "id": "1a272290-fa75-455c-839c-d1f817142790",
   "metadata": {},
   "outputs": [],
   "source": []
  },
  {
   "cell_type": "markdown",
   "id": "fc79a73a-25ce-48f2-94ab-d6d11e8c5392",
   "metadata": {},
   "source": [
    "##  the distribution"
   ]
  },
  {
   "cell_type": "code",
   "execution_count": 28,
   "id": "86c5ee7d-b3c9-487b-9855-fd90733e6bf9",
   "metadata": {},
   "outputs": [
    {
     "name": "stdout",
     "output_type": "stream",
     "text": [
      "   HeartDisease  count\n",
      "0             0    410\n",
      "1             1    508\n"
     ]
    }
   ],
   "source": [
    "#  of heart disease cases (HeartDisease)\n",
    "query2 = '''\n",
    "    SELECT HeartDisease, COUNT(*) AS count\n",
    "    FROM heart_disease\n",
    "    GROUP BY HeartDisease\n",
    "'''\n",
    "heart_disease_distribution = pd.read_sql_query(query2, conn)\n",
    "print(heart_disease_distribution)"
   ]
  },
  {
   "cell_type": "code",
   "execution_count": null,
   "id": "b66f377a-fa71-4558-8459-9675bba9d6d7",
   "metadata": {},
   "outputs": [],
   "source": []
  },
  {
   "cell_type": "markdown",
   "id": "c5fce732-5194-4030-9173-f788accfa1b6",
   "metadata": {},
   "source": [
    "## Count"
   ]
  },
  {
   "cell_type": "code",
   "execution_count": 29,
   "id": "831a3a05-f2d4-4279-8951-8a8d95403365",
   "metadata": {},
   "outputs": [
    {
     "name": "stdout",
     "output_type": "stream",
     "text": [
      "  ChestPainType  count\n",
      "0           ASY    496\n",
      "1           ATA    173\n",
      "2           NAP    203\n",
      "3            TA     46\n"
     ]
    }
   ],
   "source": [
    "#  of different types of chest pain in the dataset\n",
    "query3 = '''\n",
    "    SELECT ChestPainType, COUNT(*) AS count\n",
    "    FROM heart_disease\n",
    "    GROUP BY ChestPainType\n",
    "'''\n",
    "chest_pain_distribution = pd.read_sql_query(query3, conn)\n",
    "print(chest_pain_distribution)"
   ]
  },
  {
   "cell_type": "code",
   "execution_count": null,
   "id": "3d3001be-aa06-4cd5-9771-f9f373829a43",
   "metadata": {},
   "outputs": [],
   "source": []
  },
  {
   "cell_type": "markdown",
   "id": "32da8ec3-47a2-4f36-a67a-3630f44c6044",
   "metadata": {},
   "source": [
    "## Checking correlation"
   ]
  },
  {
   "cell_type": "code",
   "execution_count": 30,
   "id": "ed2172b7-75c6-40c7-a18d-99d5242f1845",
   "metadata": {},
   "outputs": [
    {
     "name": "stdout",
     "output_type": "stream",
     "text": [
      "   MaxHR  HeartDisease\n",
      "0    172             0\n",
      "1    156             1\n",
      "2     98             0\n",
      "3    108             1\n",
      "4    122             0\n"
     ]
    }
   ],
   "source": [
    "#  Checking correlation between MaxHR and HeartDisease\n",
    "query4 = '''\n",
    "    SELECT MaxHR, HeartDisease \n",
    "    FROM heart_disease\n",
    "'''\n",
    "maxhr_vs_heart_disease = pd.read_sql_query(query4, conn)\n",
    "print(maxhr_vs_heart_disease.head())"
   ]
  },
  {
   "cell_type": "code",
   "execution_count": null,
   "id": "868a647c-fbac-4106-9420-9e39ce848f32",
   "metadata": {},
   "outputs": [],
   "source": []
  },
  {
   "cell_type": "markdown",
   "id": "08c0b73f-804c-4a4a-b050-1f53a20e7dfe",
   "metadata": {},
   "source": [
    "## Delete query"
   ]
  },
  {
   "cell_type": "code",
   "execution_count": null,
   "id": "6d963824-a8df-4443-b302-fa3fbbc5407a",
   "metadata": {},
   "outputs": [],
   "source": [
    "\n",
    "cursor.execute(\"DELETE FROM heart_disease WHERE Age = 55\")\n",
    "conn.commit()"
   ]
  },
  {
   "cell_type": "code",
   "execution_count": null,
   "id": "7ae48b96-2303-4f8c-88e1-71f55ff728ef",
   "metadata": {},
   "outputs": [],
   "source": []
  },
  {
   "cell_type": "code",
   "execution_count": null,
   "id": "08bb521d-e856-4f24-a4d6-63e75f9887d4",
   "metadata": {},
   "outputs": [],
   "source": []
  },
  {
   "cell_type": "markdown",
   "id": "14602714-b87a-4665-ad09-91baca09673a",
   "metadata": {},
   "source": [
    "## We can similar Queries in Pandas as well"
   ]
  },
  {
   "cell_type": "code",
   "execution_count": 10,
   "id": "23f8593c-5577-4bb7-af18-5fd015fa68be",
   "metadata": {},
   "outputs": [
    {
     "name": "stdout",
     "output_type": "stream",
     "text": [
      "     Age Sex ChestPainType  RestingBP  Cholesterol  FastingBS RestingECG  \\\n",
      "0     54   M           NAP        150          195          0     Normal   \n",
      "1     54   M           ATA        110          208          0     Normal   \n",
      "2     58   M           ATA        136          164          0         ST   \n",
      "3     54   F           ATA        120          273          0     Normal   \n",
      "4     60   M           ASY        100          248          0     Normal   \n",
      "..   ...  ..           ...        ...          ...        ...        ...   \n",
      "553   57   M           ASY        130          131          0     Normal   \n",
      "554   57   F           ATA        130          236          0        LVH   \n",
      "555   60   F           ATA        130          220          1     Normal   \n",
      "556   70   F           NAP        140          280          1        LVH   \n",
      "557   67   F           ASY        140          300          1         ST   \n",
      "\n",
      "     MaxHR ExerciseAngina  Oldpeak ST_Slope  HeartDisease  \n",
      "0      122              N      0.0       Up             0  \n",
      "1      142              N      0.0       Up             0  \n",
      "2       99              Y      2.0     Flat             1  \n",
      "3      150              N      1.5     Flat             0  \n",
      "4      125              N      1.0     Flat             1  \n",
      "..     ...            ...      ...      ...           ...  \n",
      "553    115              Y      1.2     Flat             1  \n",
      "554    174              N      0.0     Flat             1  \n",
      "555    140              N      1.0     Flat             0  \n",
      "556    110              N      1.8     Flat             1  \n",
      "557    100              Y      2.0     Flat             1  \n",
      "\n",
      "[558 rows x 12 columns]\n"
     ]
    }
   ],
   "source": [
    "# Execute the query\n",
    "cursor.execute(\"SELECT * FROM heart_disease WHERE Age > 50\")\n",
    "\n",
    "# Fetch all rows\n",
    "rows = cursor.fetchall()\n",
    "\n",
    "# Get column names\n",
    "columns = [description[0] for description in cursor.description]\n",
    "\n",
    "# Create a Pandas DataFrame\n",
    "df = pd.DataFrame(rows, columns=columns)\n",
    "\n",
    "# Print the DataFrame\n",
    "print(df)\n",
    "# Close connection\n",
    "conn.close()"
   ]
  },
  {
   "cell_type": "markdown",
   "id": "ae27eaba-5a7c-4629-81ce-bdc2a871029e",
   "metadata": {},
   "source": [
    "## Inserting Data with Pandas\n",
    "We can also use Pandas DataFrames to insert multiple records into the database if you have bulk data. Here's how:"
   ]
  },
  {
   "cell_type": "code",
   "execution_count": 37,
   "id": "a7887956-1946-4609-8ea4-f12a2571dfdd",
   "metadata": {},
   "outputs": [
    {
     "name": "stdout",
     "output_type": "stream",
     "text": [
      "Data inserted successfully using Pandas\n"
     ]
    }
   ],
   "source": [
    "import pandas as pd\n",
    "\n",
    "# Sample Data for insertion\n",
    "data = {\n",
    "    'Age': [50, 67, 49],\n",
    "    'Sex': ['M', 'F', 'M'],\n",
    "    'ChestPainType': ['NAP', 'ASY', 'ATA'],\n",
    "    'RestingBP': [130, 140, 120],\n",
    "    'Cholesterol': [240, 300, 200],\n",
    "    'FastingBS': [0, 1, 0],\n",
    "    'RestingECG': ['Normal', 'ST', 'LVH'],\n",
    "    'MaxHR': [150, 100, 160],\n",
    "    'ExerciseAngina': ['N', 'Y', 'N'],\n",
    "    'Oldpeak': [1.5, 2.0, 0.8],\n",
    "    'ST_Slope': ['Up', 'Flat', 'Up'],\n",
    "    'HeartDisease': [0, 1, 0]\n",
    "}\n",
    "\n",
    "# Create a DataFrame\n",
    "df = pd.DataFrame(data)\n",
    "\n",
    "# Insert DataFrame into SQL table\n",
    "df.to_sql('heart_disease', conn, if_exists='append', index=False)\n",
    "print(\"Data inserted successfully using Pandas\")"
   ]
  },
  {
   "cell_type": "code",
   "execution_count": null,
   "id": "37428428-d795-45c5-b269-28eedeb1a499",
   "metadata": {},
   "outputs": [],
   "source": []
  },
  {
   "cell_type": "code",
   "execution_count": null,
   "id": "76c78f43-654b-4fc1-9e81-c866e42beeba",
   "metadata": {},
   "outputs": [],
   "source": []
  },
  {
   "cell_type": "markdown",
   "id": "115c4390-7a24-4aa2-a957-dd1a80f72dc9",
   "metadata": {},
   "source": [
    "This SQL and Python project successfully integrated five Kaggle datasets into a unified database, performed queries, and identified suitability for machine learning.\n",
    "\n",
    "## Machine Learning Model Implementation:\n",
    "\n",
    "To further enhance predictive capabilities, this project laid the groundwork for applying machine learning algorithms. By joining same columns and selecting the optimal model, the database can now provide:\n",
    "\n",
    "\n",
    "1. Accurate predictions on heart disease likelihood.\n",
    "2. Identification of high-risk patient groups.\n",
    "3. Insights into effective treatment and prevention strategies.\n",
    "\n",
    "   #### work continues..."
   ]
  },
  {
   "cell_type": "code",
   "execution_count": null,
   "id": "375f25e8-0271-4ffe-a6dc-1601b4b8059d",
   "metadata": {},
   "outputs": [],
   "source": []
  },
  {
   "cell_type": "code",
   "execution_count": null,
   "id": "50ba8dd0-12fd-4ff9-a6f9-944d41cc8453",
   "metadata": {},
   "outputs": [],
   "source": []
  },
  {
   "cell_type": "code",
   "execution_count": null,
   "id": "ecc13c26-4054-4d01-9169-76dc4a69c810",
   "metadata": {},
   "outputs": [],
   "source": []
  },
  {
   "cell_type": "code",
   "execution_count": null,
   "id": "bf473f43-70f9-4f3e-be64-54390bcfd3bb",
   "metadata": {},
   "outputs": [],
   "source": []
  },
  {
   "cell_type": "code",
   "execution_count": null,
   "id": "5e12079a-75bb-455e-b2f5-803ca1a4e878",
   "metadata": {},
   "outputs": [],
   "source": []
  },
  {
   "cell_type": "code",
   "execution_count": null,
   "id": "303bf06a-0096-48c6-8139-3bd31bcb34b6",
   "metadata": {},
   "outputs": [],
   "source": []
  }
 ],
 "metadata": {
  "kernelspec": {
   "display_name": "Python 3 (ipykernel)",
   "language": "python",
   "name": "python3"
  },
  "language_info": {
   "codemirror_mode": {
    "name": "ipython",
    "version": 3
   },
   "file_extension": ".py",
   "mimetype": "text/x-python",
   "name": "python",
   "nbconvert_exporter": "python",
   "pygments_lexer": "ipython3",
   "version": "3.11.7"
  }
 },
 "nbformat": 4,
 "nbformat_minor": 5
}
